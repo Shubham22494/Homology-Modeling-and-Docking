{
 "cells": [
  {
   "cell_type": "code",
   "execution_count": null,
   "id": "b835b0ef",
   "metadata": {
    "vscode": {
     "languageId": "plaintext"
    }
   },
   "outputs": [],
   "source": [
    "import matplotlib.pyplot as plt\n",
    "import numpy as np\n",
    "\n",
    "# Data from the docking results (binding energies in kcal/mol)\n",
    "ligands = ['Lig1', 'Lig2', 'Lig3', 'Lig4', 'Lig5']\n",
    "proteins = ['Wild-Type', 'Mut1', 'Mut2', 'Mut3']\n",
    "binding_energies = {\n",
    "    'Lig1': [-6.8, -7.6, -7.4, -7.6],\n",
    "    'Lig2': [-5.0, -5.4, -5.0, -4.6],\n",
    "    'Lig3': [-8.5, -7.5, -8.4, -7.8],\n",
    "    'Lig4': [-5.4, -5.0, -5.1, -4.9],\n",
    "    'Lig5': [-7.2, -7.4, -7.7, -7.3]\n",
    "}\n",
    "\n",
    "# Set up the bar graph\n",
    "fig, ax = plt.subplots(figsize=(10, 6))\n",
    "bar_width = 0.15\n",
    "x = np.arange(len(proteins))\n",
    "\n",
    "# Plot bars for each ligand\n",
    "colors = ['#1f77b4', '#ff7f0e', '#2ca02c', '#d62728', '#9467bd']\n",
    "for i, ligand in enumerate(ligands):\n",
    "    ax.bar(x + i * bar_width, binding_energies[ligand], bar_width, label=ligand, color=colors[i])\n",
    "\n",
    "# Customize the plot\n",
    "ax.set_xlabel('Protein Variants')\n",
    "ax.set_ylabel('Binding Energy (kcal/mol)')\n",
    "ax.set_title('Comparative Binding Affinities of Ligands Across Protein Variants')\n",
    "ax.set_xticks(x + bar_width * 2)\n",
    "ax.set_xticklabels(proteins)\n",
    "ax.legend()\n",
    "ax.grid(True, axis='y', linestyle='--', alpha=0.7)\n",
    "\n",
    "# Adjust layout to prevent label clipping\n",
    "plt.tight_layout()\n",
    "\n",
    "# Save the plot\n",
    "plt.savefig('binding_affinity_bar_graph.png')"
   ]
  }
 ],
 "metadata": {
  "language_info": {
   "name": "python"
  }
 },
 "nbformat": 4,
 "nbformat_minor": 5
}
